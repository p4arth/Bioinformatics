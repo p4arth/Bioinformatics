{
  "nbformat": 4,
  "nbformat_minor": 0,
  "metadata": {
    "colab": {
      "name": "CountingDNAnucleotides.ipynb",
      "provenance": [],
      "authorship_tag": "ABX9TyO8CxYrObdvWC8wdacEyz9k",
      "include_colab_link": true
    },
    "kernelspec": {
      "name": "python3",
      "display_name": "Python 3"
    },
    "language_info": {
      "name": "python"
    }
  },
  "cells": [
    {
      "cell_type": "markdown",
      "metadata": {
        "id": "view-in-github",
        "colab_type": "text"
      },
      "source": [
        "<a href=\"https://colab.research.google.com/github/p4arth/Bioinformatics/blob/main/CountingDNAnucleotides.ipynb\" target=\"_parent\"><img src=\"https://colab.research.google.com/assets/colab-badge.svg\" alt=\"Open In Colab\"/></a>"
      ]
    },
    {
      "cell_type": "markdown",
      "metadata": {
        "id": "KeBvwMUTmK5W"
      },
      "source": [
        "Making up all living material, the cell is considered to be the building block of life. The nucleus, a component of most eukaryotic cells, was identified as the hub of cellular activity 150 years ago. Viewed under a light microscope, the nucleus appears only as a darker region of the cell, but as we increase magnification, we find that the nucleus is densely filled with a stew of macromolecules called chromatin. During mitosis (eukaryotic cell division), most of the chromatin condenses into long, thin strings called chromosomes. See Figure 1 for a figure of cells in different stages of mitosis.\n",
        "\n",
        "One class of the macromolecules contained in chromatin are called nucleic acids. Early 20th century research into the chemical identity of nucleic acids culminated with the conclusion that nucleic acids are polymers, or repeating chains of smaller, similarly structured molecules known as monomers. Because of their tendency to be long and thin, nucleic acid polymers are commonly called strands.\n",
        "\n",
        "The nucleic acid monomer is called a nucleotide and is used as a unit of strand length (abbreviated to nt). Each nucleotide is formed of three parts: a sugar molecule, a negatively charged ion called a phosphate, and a compound called a nucleobase (\"base\" for short). Polymerization is achieved as the sugar of one nucleotide bonds to the phosphate of the next nucleotide in the chain, which forms a sugar-phosphate backbone for the nucleic acid strand. A key point is that the nucleotides of a specific type of nucleic acid always contain the same sugar and phosphate molecules, and they differ only in their choice of base. Thus, one strand of a nucleic acid can be differentiated from another based solely on the order of its bases; this ordering of bases defines a nucleic acid's primary structure.\n",
        "\n",
        "deoxyribose nucleic acid (DNA), in which the sugar is called deoxyribose, and the only four choices for nucleobases are molecules called adenine (A), cytosine (C), guanine (G), and thymine (T).\n",
        "\n",
        "For reasons we will soon see, DNA is found in all living organisms on Earth, including bacteria; it is even found in many viruses (which are often considered to be nonliving). Because of its importance, we reserve the term genome to refer to the sum total of the DNA contained in an organism's chromosomes."
      ]
    },
    {
      "cell_type": "code",
      "metadata": {
        "id": "LHpgt-6VkFp0"
      },
      "source": [
        "def NucledtideCounter(seq):\n",
        "  dict = {'A':0, 'C':0, 'G':0, 'T':0}\n",
        "  for nuc in seq:\n",
        "    dict[nuc] += 1\n",
        "  return dict"
      ],
      "execution_count": 14,
      "outputs": []
    },
    {
      "cell_type": "code",
      "metadata": {
        "colab": {
          "base_uri": "https://localhost:8080/"
        },
        "id": "7wIN8SGgkoy1",
        "outputId": "121567c2-a3c5-4c4b-e752-c4cc1a26cea7"
      },
      "source": [
        "SampleSeq = \"AGCTTTTCATTCTGACTGCAACGGGCAATATGTCTCTGTGTGGATTAAAAAAAGAGTGTCTGATAGCAGC\"\n",
        "resultsample = NucledtideCounter(SampleSeq)\n",
        "print(' '.join([str(val) for key,val in resultsample.items()]))"
      ],
      "execution_count": 16,
      "outputs": [
        {
          "output_type": "stream",
          "text": [
            "20 12 17 21\n"
          ],
          "name": "stdout"
        }
      ]
    },
    {
      "cell_type": "code",
      "metadata": {
        "colab": {
          "base_uri": "https://localhost:8080/"
        },
        "id": "zm10ZmVsk_87",
        "outputId": "60e88007-ea77-486f-ab78-2261e7fde307"
      },
      "source": [
        "seq = \"GCTATAAGCTCCAACTGCAAAGTGAGGCGGTTCAATTTCATTTAAGCAGGAACTTCACTACTAACGACGACGCAAGGATCACGGGAGTTCCAGTTTACAGAACCGGGCGAGGCGGGTGGAGAAATAGATGAGGCCAGGACACCTGGTGCACACGTGTACGCAGTACGTTTTCGACATTCCCACTAAGCATCTCTCGAGCAGCTGTTTGCGACGTCTGATAACGATCAAGTGTCTGGAAATATGCTTGTAGACCCACTCCTGTAGGGGAAGTGAAAGGGTGCAAACAGGGGATCGAACAGTTTCACCTGGTGATCTATGCAACGCGTGTATCTCTTGTAGTTGTCGCTAGTAGAAACAAACGATCTCTTTGAGTCGTCCCCACCCCAAAGTTCGTCAGTATTTTTGAAGGATAGCTGGCTTAGCACAGTGATGACTTTGCCATCAAAGGCGATATCAATCACTTCTCTCTACTTCGCAGTGTGATTCAGGACGTCACACGTAGCGGTTCCTTTTACAGTAACCCCAGACAGCATGCATCACGTTGCTCTTTTGATTAGAATGTTGACCCAAATCGGCTACCATACCCCTCTATGCCATTGCCAGAAGCTCGCATTCGACTATTCGAATGCCTCCGCATGCGAACTTAAGTGATTACTAATTTTGAATTGCCCCGGACCGAGCCGCCGTGAACTGCCCAGCGGTTAGGTCAAGTAACTGCCCCCAAGGTAACAGTCCCCCCGAGCCACACTCCCATAGACTACTACACCCAACTTGAATACTTCGCCTGAACCTATAAACCGATAAGGCCAAGATGCGATAGACAACTTATGTACTCGGTATCTTTTAGTTACGTCCTGTACGCTAGCCAAACAAGACTTGGAGCAGCTTCAGACTAGGTAGTG\"\n",
        "result = NucledtideCounter(seq)\n",
        "print(' '.join([str(val) for key,val in result.items()]))"
      ],
      "execution_count": 17,
      "outputs": [
        {
          "output_type": "stream",
          "text": [
            "241 233 205 223\n"
          ],
          "name": "stdout"
        }
      ]
    }
  ]
}